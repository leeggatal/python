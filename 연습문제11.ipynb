{
  "nbformat": 4,
  "nbformat_minor": 0,
  "metadata": {
    "colab": {
      "name": "Untitled11.ipynb",
      "provenance": [],
      "authorship_tag": "ABX9TyNOZwUUJxlStsuaaBMEcdz/",
      "include_colab_link": true
    },
    "kernelspec": {
      "name": "python3",
      "display_name": "Python 3"
    },
    "language_info": {
      "name": "python"
    }
  },
  "cells": [
    {
      "cell_type": "markdown",
      "metadata": {
        "id": "view-in-github",
        "colab_type": "text"
      },
      "source": [
        "<a href=\"https://colab.research.google.com/github/leeggatal/python/blob/main/%EC%97%B0%EC%8A%B5%EB%AC%B8%EC%A0%9C11.ipynb\" target=\"_parent\"><img src=\"https://colab.research.google.com/assets/colab-badge.svg\" alt=\"Open In Colab\"/></a>"
      ]
    },
    {
      "cell_type": "code",
      "execution_count": null,
      "metadata": {
        "id": "97IRWy4zNk0O"
      },
      "outputs": [],
      "source": [
        "filename=input(\"파일 이름을 입력하세요:\").strip()\n",
        "infile=open(filename, \"r\")\n",
        "count=0\n",
        "\n",
        "for line in infile:\n",
        "    for ch in line:\n",
        "        count+=1\n",
        "\n",
        "print(\"파일 안에는 총\", count, \"개의 글자가 있습니다.\")\n",
        "infile.close() # 파일을 닫는다."
      ]
    },
    {
      "cell_type": "code",
      "source": [
        "infilename=input(\"파일 이름을 입력하시오:\").strip()\n",
        "infile=open(infilename,\"r\")\n",
        "file_s=infile.read()\n",
        "removed_s=input(\"삭제할 문자열을 입력하시오:\").strip()\n",
        "modified_s=file_s.replace(removed_s,\"\")\n",
        "\n",
        "infile.close()\n",
        "outfile=open(infilename,\"w\")\n",
        "\n",
        "print(modified_s, file=outfile, end=\"\")\n",
        "print(\"변경된 파일이 저장되었습니다.\")\n",
        "outfile.close()"
      ],
      "metadata": {
        "id": "003qXeKcP9Tg"
      },
      "execution_count": null,
      "outputs": []
    },
    {
      "cell_type": "code",
      "source": [
        "infile=open(filename, \"r\")\n",
        "for line in infile:\n",
        "\n",
        " def countLine(line,counter):\n",
        "  for ch in line:\n",
        "      if ch.isalpha():\n",
        "            if ch in counter:\n",
        "                    counter[ch]=counter[ch]+1\n",
        "            else:\n",
        "                    counter[ch]=1\n",
        "\n",
        "fname=input(\"입력 파일 이름:\").strip()\n",
        "lifile=open(fname,\"r\")\n",
        "\n",
        "my_dict={}\n",
        "for line in infile:\n",
        "  countLine(line, my_dict)\n",
        "\n",
        "print(my_dict)\n",
        "infile.close()"
      ],
      "metadata": {
        "id": "NFyB8ObwRjr5"
      },
      "execution_count": null,
      "outputs": []
    },
    {
      "cell_type": "code",
      "source": [
        "import pickle\n",
        "\n",
        "outfile=open(\"test.dat\",\"wb\")\n",
        "pickle.dump(12,outfile)\n",
        "pickle.dump(3.14, outfile)\n",
        "pickle.dump([1,2,3,4,5],outfile)\n",
        "outfile.close()\n",
        "\n",
        "infile=open(\"test.dat\",\"rb\")\n",
        "print(pickle.load(infile))\n",
        "print(pickle.load(infile))\n",
        "print(pickle.load(infile))\n",
        "infile.close()"
      ],
      "metadata": {
        "colab": {
          "base_uri": "https://localhost:8080/"
        },
        "id": "XNJMgZEKTWme",
        "outputId": "b5d3ec2b-8e67-4af1-a3b2-aa647003a1b9"
      },
      "execution_count": null,
      "outputs": [
        {
          "output_type": "stream",
          "name": "stdout",
          "text": [
            "12\n",
            "3.14\n",
            "[1, 2, 3, 4, 5]\n"
          ]
        }
      ]
    },
    {
      "cell_type": "code",
      "source": [
        "inFileName=input(\"입력 파일 이름:\")\n",
        "outFileName(\"출력 파일 이름:\")\n",
        "\n",
        "infile=open(inFileName, \"r\")\n",
        "outfile=open(outFileName, \"w\")\n",
        "\n",
        "total=0.0\n",
        "count=0\n",
        "\n",
        "line=infile.readline()\n",
        "while line !=\"\":\n",
        "  value=float(line)\n",
        "  total=total+value\n",
        "  cont+count+1\n",
        "  line+infile.readline()\n",
        "\n",
        "outfile.write(\"합계=\"+str(total)+\"/n\")\n",
        "\n",
        "avg=total/count\n",
        "outfile.write(\"평균=\"+str(avg)+\"/n\")\n",
        "\n",
        "infile.close()\n",
        "outfile.close()"
      ],
      "metadata": {
        "id": "fjyNxT0RUeZt"
      },
      "execution_count": null,
      "outputs": []
    }
  ]
}
{
  "nbformat": 4,
  "nbformat_minor": 0,
  "metadata": {
    "colab": {
      "name": "Untitled3.ipynb",
      "provenance": [],
      "authorship_tag": "ABX9TyOnaHCRTHinNcdr93NIp45F",
      "include_colab_link": true
    },
    "kernelspec": {
      "name": "python3",
      "display_name": "Python 3"
    },
    "language_info": {
      "name": "python"
    }
  },
  "cells": [
    {
      "cell_type": "markdown",
      "metadata": {
        "id": "view-in-github",
        "colab_type": "text"
      },
      "source": [
        "<a href=\"https://colab.research.google.com/github/leeggatal/python/blob/main/%EC%A1%B0%EA%B1%B4%EB%AC%B8.ipynb\" target=\"_parent\"><img src=\"https://colab.research.google.com/assets/colab-badge.svg\" alt=\"Open In Colab\"/></a>"
      ]
    },
    {
      "cell_type": "code",
      "metadata": {
        "colab": {
          "base_uri": "https://localhost:8080/"
        },
        "id": "qGrFKu87JhtX",
        "outputId": "827cb34d-22a3-4501-d016-36f0dac0a112"
      },
      "source": [
        "a=int(input(\"음료 숫자를 입력하시오:\"))\n",
        "\n",
        "if a==1:\n",
        "  print(\"아메리카노\")\n",
        "elif a==2:\n",
        "  print(\"에스프레소\")\n",
        "elif a==3:\n",
        "  print(\"카페라떼\")\n",
        "elif a==4:\n",
        "  print(\"딸기라떼\")\n",
        "elif a==5:\n",
        "  print(\"바닐라라떼\")\n",
        "elif a==6:\n",
        "  print(\"아이스티\")\n",
        "else:\n",
        "  print(\"카페 메뉴가 아닙니다\")"
      ],
      "execution_count": 8,
      "outputs": [
        {
          "output_type": "stream",
          "name": "stdout",
          "text": [
            "음료 숫자를 입력하시오:3\n",
            "카페라떼\n"
          ]
        }
      ]
    }
  ]
}
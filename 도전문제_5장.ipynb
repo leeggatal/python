{
  "nbformat": 4,
  "nbformat_minor": 0,
  "metadata": {
    "colab": {
      "name": "Untitled4.ipynb",
      "provenance": [],
      "authorship_tag": "ABX9TyPdmTfFdaODzEjEcyhVHHBB",
      "include_colab_link": true
    },
    "kernelspec": {
      "name": "python3",
      "display_name": "Python 3"
    },
    "language_info": {
      "name": "python"
    }
  },
  "cells": [
    {
      "cell_type": "markdown",
      "metadata": {
        "id": "view-in-github",
        "colab_type": "text"
      },
      "source": [
        "<a href=\"https://colab.research.google.com/github/leeggatal/python/blob/main/%EB%8F%84%EC%A0%84%EB%AC%B8%EC%A0%9C_5%EC%9E%A5.ipynb\" target=\"_parent\"><img src=\"https://colab.research.google.com/assets/colab-badge.svg\" alt=\"Open In Colab\"/></a>"
      ]
    },
    {
      "cell_type": "code",
      "metadata": {
        "colab": {
          "base_uri": "https://localhost:8080/"
        },
        "id": "L0HLLmq-VcHz",
        "outputId": "70755e5b-9b90-45ce-dfb0-830389dd2415"
      },
      "source": [
        "age=int(input('나이를 입력하시오:'))\n",
        "if age>=15:\n",
        "  print(\"이 영화를 보실 수 있습니다. 영화의 가격은 10000원 입니다.\")\n",
        "else:\n",
        "  print(\"이 영화를 보실 수 없습니다. 다른 영화를 보시겠어요?\")"
      ],
      "execution_count": 5,
      "outputs": [
        {
          "output_type": "stream",
          "name": "stdout",
          "text": [
            "나이를 입력하시오:19\n",
            "이 영화를 보실 수 있습니다. 영화의 가격은 10000원 입니다.\n"
          ]
        }
      ]
    },
    {
      "cell_type": "code",
      "metadata": {
        "colab": {
          "base_uri": "https://localhost:8080/"
        },
        "id": "nIQPvgtEWB2A",
        "outputId": "6020edf6-b03e-4fda-c6fa-d9dabc9c8533"
      },
      "source": [
        "import random\n",
        "\n",
        "print(\"주사위 던지기 게임을 시작합니다.\")\n",
        "dice=random.randrange(6)+1\n",
        "print(\"주사위 눈은\"+str(dice)+\"입니다.\")\n",
        "print(\"게임이 종료되었습니다.\")"
      ],
      "execution_count": 6,
      "outputs": [
        {
          "output_type": "stream",
          "name": "stdout",
          "text": [
            "주사위 던지기 게임을 시작합니다.\n",
            "주사위 눈은2입니다.\n",
            "게임이 종료되었습니다.\n"
          ]
        }
      ]
    },
    {
      "cell_type": "code",
      "metadata": {
        "colab": {
          "base_uri": "https://localhost:8080/"
        },
        "id": "w8EsgqfzWZWq",
        "outputId": "e44b3387-dc77-4496-d12b-3e0d438a77e9"
      },
      "source": [
        "import random\n",
        "time=random.randint(1,24)\n",
        "print(\"좋은 아침입니다. 지금 시각은 \"+str(time)+\"시 입니다.\")\n",
        "#sunny=random.choice([True,False])\n",
        "#if sunny:\n",
        "#else:\n",
        "#print(\"현재 날씨가 화창하지 않습니다.\")\n",
        "\n",
        "#종달새가 ㄴ래를 할 것인지를 판단해보자.\n",
        "if time>=6 and time <9 and True:\n",
        "  print(\"종달새가 노래를 한다.\")\n",
        "\n",
        "elif time>=14 and time<16 and True:\n",
        "  print(\"종달새가 노래를 한다.\")\n",
        "else:\n",
        "  print(\"종달새가 노래를 하지 않는다.\")"
      ],
      "execution_count": 7,
      "outputs": [
        {
          "output_type": "stream",
          "name": "stdout",
          "text": [
            "좋은 아침입니다. 지금 시각은 7시 입니다.\n",
            "종달새가 노래를 한다.\n"
          ]
        }
      ]
    },
    {
      "cell_type": "code",
      "metadata": {
        "colab": {
          "base_uri": "https://localhost:8080/"
        },
        "id": "QoiRX7MYaro7",
        "outputId": "5a5cd360-25f3-423d-fb62-a1199d9e7ec5"
      },
      "source": [
        "id=\"ilovepython\"\n",
        "pw=\"123456\"\n",
        "s=input(\"아이디를 입력하시오:\")\n",
        "if s ==id:\n",
        "  p=input(\"패스워드를 입력하시오:\")\n",
        "  if p==pw:\n",
        "    print(\"환영합니다.\")\n",
        "  else:\n",
        "   print(\"비밀번호가 잘못되었습니다.\")\n",
        "else:\n",
        "  print(\"아이디를 찾을 수 없습니다.\")"
      ],
      "execution_count": 13,
      "outputs": [
        {
          "output_type": "stream",
          "name": "stdout",
          "text": [
            "아이디를 입력하시오:iloveprthon\n",
            "아이디를 찾을 수 없습니다.\n"
          ]
        }
      ]
    },
    {
      "cell_type": "code",
      "metadata": {
        "colab": {
          "base_uri": "https://localhost:8080/"
        },
        "id": "XtscIh0ocitz",
        "outputId": "aa67e8e2-65dc-4a37-d963-866c83caa26e"
      },
      "source": [
        "import random\n",
        "\n",
        "options=[\"왼쪽 상단\",\"왼쪽 하단\",\"중앙\",\"오른쪽 상단\",\"오른쪽 하단\"]\n",
        "computer_choice=random.choice(options)\n",
        "user_choice=input(\"어디를 수비하시겠어요?(왼쪽 상단,왼쪽 하단,중앙,오른쪽 상단,오른쪽 하단\")\n",
        "if computer_choice==user_choice:\n",
        "   print(\"수비에 성공하셨습니다.\")\n",
        "else:\n",
        "  print(\"패널티 킥이 성공하였습니다.\")"
      ],
      "execution_count": 14,
      "outputs": [
        {
          "output_type": "stream",
          "name": "stdout",
          "text": [
            "어디를 수비하시겠어요?(왼쪽 상단,왼쪽 하단,중앙,오른쪽 상단,오른쪽 하단중앙\n",
            "패널티 킥이 성공하였습니다.\n"
          ]
        }
      ]
    }
  ]
}
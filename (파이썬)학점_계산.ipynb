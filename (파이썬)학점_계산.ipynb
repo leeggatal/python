{
  "nbformat": 4,
  "nbformat_minor": 0,
  "metadata": {
    "colab": {
      "name": "(파이썬)학점 계산.ipynb",
      "provenance": [],
      "authorship_tag": "ABX9TyNsSjxR5GJ6yoEev2MSEP34",
      "include_colab_link": true
    },
    "kernelspec": {
      "name": "python3",
      "display_name": "Python 3"
    },
    "language_info": {
      "name": "python"
    }
  },
  "cells": [
    {
      "cell_type": "markdown",
      "metadata": {
        "id": "view-in-github",
        "colab_type": "text"
      },
      "source": [
        "<a href=\"https://colab.research.google.com/github/leeggatal/python/blob/main/(%ED%8C%8C%EC%9D%B4%EC%8D%AC)%ED%95%99%EC%A0%90_%EA%B3%84%EC%82%B0.ipynb\" target=\"_parent\"><img src=\"https://colab.research.google.com/assets/colab-badge.svg\" alt=\"Open In Colab\"/></a>"
      ]
    },
    {
      "cell_type": "code",
      "metadata": {
        "colab": {
          "base_uri": "https://localhost:8080/"
        },
        "id": "XH1Jzu8XC2dx",
        "outputId": "05bc5ca4-b70c-4fc7-bbc3-77d27d471ffa"
      },
      "source": [
        "score=int(input(\"점수를 입력하세요.\"))\n",
        "\n",
        "if(score>=90):\n",
        "  print(\"A학점\")\n",
        "elif(score>=80):\n",
        "  print(\"B학점\")\n",
        "elif(score>=70):\n",
        "  print(\"C학점\")\n",
        "elif(score>=60):\n",
        "  print(\"D학점\")\n",
        "else:\n",
        "  print(\"F학점\")"
      ],
      "execution_count": 4,
      "outputs": [
        {
          "output_type": "stream",
          "name": "stdout",
          "text": [
            "점수를 입력하세요.89\n",
            "B학점\n"
          ]
        }
      ]
    }
  ]
}
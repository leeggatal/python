{
  "nbformat": 4,
  "nbformat_minor": 0,
  "metadata": {
    "colab": {
      "name": "Untitled14.ipynb",
      "provenance": [],
      "authorship_tag": "ABX9TyO8xznuHaZooo0Dg9BpwAWa",
      "include_colab_link": true
    },
    "kernelspec": {
      "name": "python3",
      "display_name": "Python 3"
    },
    "language_info": {
      "name": "python"
    }
  },
  "cells": [
    {
      "cell_type": "markdown",
      "metadata": {
        "id": "view-in-github",
        "colab_type": "text"
      },
      "source": [
        "<a href=\"https://colab.research.google.com/github/leeggatal/python/blob/main/%EB%8F%84%EC%A0%84%EB%AC%B8%EC%A0%9C_11%EC%9E%A5.ipynb\" target=\"_parent\"><img src=\"https://colab.research.google.com/assets/colab-badge.svg\" alt=\"Open In Colab\"/></a>"
      ]
    },
    {
      "cell_type": "code",
      "execution_count": null,
      "metadata": {
        "id": "0jGPwBOSpw0g"
      },
      "outputs": [],
      "source": [
        "import pickle \n",
        "#게임에서 사용되는 딕셔너리\n",
        "addrssBook={\"names\":[\"김김김\",\"이이이\",\"박박박\",\"홍길동\"],\"mails\":[\"aaa@gmail.com\",\"bbb@gmail.com\",\"ddd@gmail.com\"],\"address\":[\"seoul\",\"daejeon\",\"daegu\",\"busan\"]}\n",
        "#이진 파일 오픈\n",
        "file=open(\"save.p\",\"wb\") \n",
        "#딕셔너리를 피클 파일에 저장\n",
        "pickle.dump(addressBook,file)\n",
        "#파일을 닫는다\n",
        "file.close\n",
        "\n",
        "#이진 파일 오픈\n",
        "file=open(\"save.p\",\"rb\")\n",
        "#피클 파일에 딕셔너리를 로딩\n",
        "obj=pickle.load(file)\n",
        "print(obj)"
      ]
    }
  ]
}
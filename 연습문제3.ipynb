{
  "nbformat": 4,
  "nbformat_minor": 0,
  "metadata": {
    "colab": {
      "name": "연습문제3.ipynb",
      "provenance": [],
      "authorship_tag": "ABX9TyPQjvUOe8i+fhw2+FN7xjtN",
      "include_colab_link": true
    },
    "kernelspec": {
      "name": "python3",
      "display_name": "Python 3"
    },
    "language_info": {
      "name": "python"
    }
  },
  "cells": [
    {
      "cell_type": "markdown",
      "metadata": {
        "id": "view-in-github",
        "colab_type": "text"
      },
      "source": [
        "<a href=\"https://colab.research.google.com/github/leeggatal/python/blob/main/%EC%97%B0%EC%8A%B5%EB%AC%B8%EC%A0%9C3.ipynb\" target=\"_parent\"><img src=\"https://colab.research.google.com/assets/colab-badge.svg\" alt=\"Open In Colab\"/></a>"
      ]
    },
    {
      "cell_type": "code",
      "metadata": {
        "colab": {
          "base_uri": "https://localhost:8080/"
        },
        "id": "t26OJpaIktRG",
        "outputId": "6b635935-d9f0-469f-eb12-c5ba017fc033"
      },
      "source": [
        "x=int(input(\"x:\"))\n",
        "y=int(input(\"y:\"))\n",
        "\n",
        "print(\"두수의 합:\",x+y)\n",
        "print(\"두수의 차:\",x-y)\n",
        "print(\"두수의 곱:\",x*y)\n",
        "print(\"두수의 평균:\",(x+y)/2)\n",
        "print(\"큰수:\",max(x,y))\n",
        "print(\"작은수:\",min(x,y))"
      ],
      "execution_count": 6,
      "outputs": [
        {
          "output_type": "stream",
          "name": "stdout",
          "text": [
            "x:10\n",
            "y:20\n",
            "두수의 합: 30\n",
            "두수의 차: -10\n",
            "두수의 곱: 200\n",
            "두수의 평균: 15.0\n",
            "큰수: 20\n",
            "작은수: 10\n"
          ]
        }
      ]
    },
    {
      "cell_type": "code",
      "metadata": {
        "colab": {
          "base_uri": "https://localhost:8080/"
        },
        "id": "EYR38YDLkueY",
        "outputId": "1c7ddaca-5249-4e42-e983-94444136f926"
      },
      "source": [
        "r=float(input(\"r:\"))\n",
        "h=float(input(\"h:\"))\n",
        "\n",
        "vol=3.141592*r**2*h\n",
        "print(\"원기둥의 부피:\",vol)"
      ],
      "execution_count": 5,
      "outputs": [
        {
          "output_type": "stream",
          "name": "stdout",
          "text": [
            "r:10\n",
            "h:100\n",
            "원기둥의 부피: 31415.92\n"
          ]
        }
      ]
    },
    {
      "cell_type": "code",
      "metadata": {
        "colab": {
          "base_uri": "https://localhost:8080/"
        },
        "id": "4W0g9SVrmzmr",
        "outputId": "0ee21f8f-a44a-4fa7-b901-d0521e2bc715"
      },
      "source": [
        "number=int(input(\"정수를 입력하시오:\"))\n",
        "\n",
        "sum=0\n",
        "sum=sum+number%10\n",
        "number+number//10\n",
        "sum=sum+number%10\n",
        "number=number//10\n",
        "sum=sum+number%10\n",
        "number=number//10\n",
        "print(\"자리수의 합:\",str(sum))"
      ],
      "execution_count": 8,
      "outputs": [
        {
          "output_type": "stream",
          "name": "stdout",
          "text": [
            "정수를 입력하시오:1234\n",
            "자리수의 합: 11\n"
          ]
        }
      ]
    },
    {
      "cell_type": "code",
      "metadata": {
        "colab": {
          "base_uri": "https://localhost:8080/"
        },
        "id": "-pfflWkUn2XF",
        "outputId": "108e68cf-e8aa-4362-963f-e9b0b03e5afd"
      },
      "source": [
        "x1=int(input(\"x1:\"))\n",
        "y1=int(input(\"y1:\"))\n",
        "x2=int(input(\"x2:\"))\n",
        "y2=int(input(\"y2:\"))\n",
        "dist=((x2-x1)**2+(y2-y1)**2)**0.5\n",
        "print(\"두점 사이의 거리=\",dist)"
      ],
      "execution_count": 11,
      "outputs": [
        {
          "output_type": "stream",
          "name": "stdout",
          "text": [
            "x1:0\n",
            "y1:0\n",
            "x2:100\n",
            "y2:100\n",
            "두점 사이의 거리= 141.4213562373095\n"
          ]
        }
      ]
    },
    {
      "cell_type": "code",
      "metadata": {
        "colab": {
          "base_uri": "https://localhost:8080/"
        },
        "id": "Ui9GvZDxpNE5",
        "outputId": "74d8b58d-2709-42e3-aaf6-ebdcb00e3758"
      },
      "source": [
        "import time\n",
        "fseconds=time.time()\n",
        "total_sec=int(fseconds)\n",
        "total_min=total_sec//60\n",
        "minute=total_min%60\n",
        "total_hour=total_min//60\n",
        "hour=total_hour%24\n",
        "\n",
        "print(\"현재 시간(영국 그리니치 시각):\"+str(hour)+\"시\"+str(minute)+\"분\")"
      ],
      "execution_count": 18,
      "outputs": [
        {
          "output_type": "stream",
          "name": "stdout",
          "text": [
            "현재 시간(영국 그리니치 시각):9시26분\n"
          ]
        }
      ]
    },
    {
      "cell_type": "code",
      "metadata": {
        "colab": {
          "base_uri": "https://localhost:8080/"
        },
        "id": "0hYll5p3rBgg",
        "outputId": "30e3b4a2-ca1e-4dd3-9964-ee6210e52824"
      },
      "source": [
        "mass=float(input(\"물체의 무게를 입력하시오(킬로그램:\"))\n",
        "velocity=float(input(\"물체의 속도를 입력하시오(미터/초):\"))\n",
        "\n",
        "energy=0.5*mass*velocity**2\n",
        "print(\"물체는\"+str(energy)+\"(줄)의 에너지를 가지고 있다.\")"
      ],
      "execution_count": 19,
      "outputs": [
        {
          "output_type": "stream",
          "name": "stdout",
          "text": [
            "물체의 무게를 입력하시오(킬로그램:10\n",
            "물체의 속도를 입력하시오(미터/초):100\n",
            "물체는50000.0(줄)의 에너지를 가지고 있다.\n"
          ]
        }
      ]
    }
  ]
}
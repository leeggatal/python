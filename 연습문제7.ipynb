{
  "nbformat": 4,
  "nbformat_minor": 0,
  "metadata": {
    "colab": {
      "name": "Untitled7.ipynb",
      "provenance": [],
      "authorship_tag": "ABX9TyNMUjSqEZElae3vOJzjgnU+",
      "include_colab_link": true
    },
    "kernelspec": {
      "name": "python3",
      "display_name": "Python 3"
    },
    "language_info": {
      "name": "python"
    }
  },
  "cells": [
    {
      "cell_type": "markdown",
      "metadata": {
        "id": "view-in-github",
        "colab_type": "text"
      },
      "source": [
        "<a href=\"https://colab.research.google.com/github/leeggatal/python/blob/main/%EC%97%B0%EC%8A%B5%EB%AC%B8%EC%A0%9C7.ipynb\" target=\"_parent\"><img src=\"https://colab.research.google.com/assets/colab-badge.svg\" alt=\"Open In Colab\"/></a>"
      ]
    },
    {
      "cell_type": "code",
      "metadata": {
        "colab": {
          "base_uri": "https://localhost:8080/"
        },
        "id": "4ggSrUzYALUt",
        "outputId": "53f2b624-d687-42aa-e6c4-c62e24a19a30"
      },
      "source": [
        "def happyBirthday(person):\n",
        "  print(\"Happy Birthday to you!\")\n",
        "  print(\"Happy Birthday to you!\")\n",
        "  print(\"Happy Birthday,dear\"+person)\n",
        "  print(\"Happpy Birthday to you!\")\n",
        "\n",
        "happyBirthday(\"홍길동\")"
      ],
      "execution_count": 2,
      "outputs": [
        {
          "output_type": "stream",
          "name": "stdout",
          "text": [
            "Happy Birthday to you!\n",
            "Happy Birthday to you!\n",
            "Happy Birthday,dear홍길동\n",
            "Happpy Birthday to you!\n"
          ]
        }
      ]
    },
    {
      "cell_type": "code",
      "metadata": {
        "colab": {
          "base_uri": "https://localhost:8080/"
        },
        "id": "qCWW92_sBYcS",
        "outputId": "6efd6356-4926-47d4-cd98-8ea52d5acb19"
      },
      "source": [
        "def sumProblem(x,y):\n",
        "  sum=x+y\n",
        "  sentence=\"정수\"+str(x)+\"+\"+str(y)+\"의 합은?\"\n",
        "  print(sentence)\n",
        "\n",
        "def main():\n",
        "  a=int(input(\"첫 번쨰 정수:\"))\n",
        "  b=int(input(\"두 번쨰 정수:\"))\n",
        "  sumProblem(a,b)\n",
        "\n",
        "main()"
      ],
      "execution_count": 3,
      "outputs": [
        {
          "output_type": "stream",
          "name": "stdout",
          "text": [
            "첫 번쨰 정수:10\n",
            "두 번쨰 정수:20\n",
            "정수10+20의 합은?\n"
          ]
        }
      ]
    },
    {
      "cell_type": "code",
      "metadata": {
        "colab": {
          "base_uri": "https://localhost:8080/"
        },
        "id": "SkCkP0tYCWtc",
        "outputId": "2e7f3224-45b7-4eea-a607-e1f5c2788f9a"
      },
      "source": [
        "PI=3.14159265358979\n",
        "\n",
        "def circleArea(radius):\n",
        "  return PI*radius*radius\n",
        "\n",
        "def circleCircumference(radius):\n",
        "  return 2*PI*radius\n",
        "\n",
        "def main():\n",
        "  print('반지름이 5인 원의 면적;',circleArea(5))\n",
        "  print('반지름이 5인 원의 둘레:',circleCircumference(5))\n",
        "\n",
        "main()"
      ],
      "execution_count": 7,
      "outputs": [
        {
          "output_type": "stream",
          "name": "stdout",
          "text": [
            "반지름이 5인 원의 면적; 78.53981633974475\n",
            "반지름이 5인 원의 둘레: 31.4159265358979\n"
          ]
        }
      ]
    },
    {
      "cell_type": "code",
      "metadata": {
        "colab": {
          "base_uri": "https://localhost:8080/"
        },
        "id": "9j5zrNfQDwP2",
        "outputId": "554f6403-b549-4003-f8e6-0dfacfb7f0fd"
      },
      "source": [
        "def add(a,b):\n",
        "  print(\"(%d+%d)\"%(a,b),end=\"\")\n",
        "  return a+b\n",
        "\n",
        "def subtract(a,b):\n",
        "  print(\"(%d-%d)\"%(a,b),end=\"\")\n",
        "  return a-b\n",
        "\n",
        "def multiply(a,b):\n",
        "  print(\"(%d*%d)\"%(a,b),end=\"\")\n",
        "  return a*b\n",
        "\n",
        "def divide(a,b):\n",
        "  print(\"(%d/%d)\"%(a,b),end=\"\")\n",
        "  return a/b\n",
        "\n",
        "what=add(20,10)\n",
        "print(\"=\",what)"
      ],
      "execution_count": 8,
      "outputs": [
        {
          "output_type": "stream",
          "name": "stdout",
          "text": [
            "(20+10)= 30\n"
          ]
        }
      ]
    }
  ]
}
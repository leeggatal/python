{
  "nbformat": 4,
  "nbformat_minor": 0,
  "metadata": {
    "colab": {
      "name": "Untitled0.ipynb",
      "provenance": [],
      "authorship_tag": "ABX9TyN3yIU7tRQXSf1iGMjhTGdF",
      "include_colab_link": true
    },
    "kernelspec": {
      "name": "python3",
      "display_name": "Python 3"
    },
    "language_info": {
      "name": "python"
    }
  },
  "cells": [
    {
      "cell_type": "markdown",
      "metadata": {
        "id": "view-in-github",
        "colab_type": "text"
      },
      "source": [
        "<a href=\"https://colab.research.google.com/github/leeggatal/python/blob/main/%EB%8F%84%EC%A0%84%EB%AC%B8%EC%A0%9C_4%EC%9E%A5.ipynb\" target=\"_parent\"><img src=\"https://colab.research.google.com/assets/colab-badge.svg\" alt=\"Open In Colab\"/></a>"
      ]
    },
    {
      "cell_type": "code",
      "metadata": {
        "colab": {
          "base_uri": "https://localhost:8080/"
        },
        "id": "dFowO8Qkf1jS",
        "outputId": "9bce539e-71d3-4e06-e679-f1baacfdb13b"
      },
      "source": [
        "print(\"안녕하세요?\")\n",
        "name=input(\"이름이 어떻게 되시나요?\")\n",
        "print(\"만나서 반갑습니다.\"+name+\"씨\")\n",
        "print(\"이름의 길이는 다음과 같군요:\",end=\"\")\n",
        "print(len(name))\n",
        "age=int(input(\"나이가 어떻게 되나요?\"))\n",
        "print(\"내년이면\",str(age+1),\"이 되시는군요.\")\n",
        "hobby=input(\"취미가 무엇인가요?\")\n",
        "print(\"네 저도\"+hobby+\"좋아합니다.\")"
      ],
      "execution_count": 2,
      "outputs": [
        {
          "output_type": "stream",
          "name": "stdout",
          "text": [
            "안녕하세요?\n",
            "이름이 어떻게 되시나요?이영채\n",
            "만나서 반갑습니다.이영채씨\n",
            "이름의 길이는 다음과 같군요:3\n",
            "나이가 어떻게 되나요?19\n",
            "내년이면 20 이 되시는군요.\n",
            "취미가 무엇인가요?소설읽기\n",
            "네 저도소설읽기좋아합니다.\n"
          ]
        }
      ]
    },
    {
      "cell_type": "code",
      "metadata": {
        "colab": {
          "base_uri": "https://localhost:8080/"
        },
        "id": "g3xryWzZhVWV",
        "outputId": "3ec84f87-e18d-42c4-dc6f-f49a83391526"
      },
      "source": [
        "year=input(\"오늘의 온도를 입력하시오:\")\n",
        "month=input(\"오늘의 월을 입력하시오:\")\n",
        "date=input(\"오늘의 일을 입력하시오:\")\n",
        "\n",
        "print(month+\"/\",date+\"/\",year)"
      ],
      "execution_count": 7,
      "outputs": [
        {
          "output_type": "stream",
          "name": "stdout",
          "text": [
            "오늘의 온도를 입력하시오:17도\n",
            "오늘의 월을 입력하시오:10월\n",
            "오늘의 일을 입력하시오:31일\n",
            "10월/ 31일/ 17도\n"
          ]
        }
      ]
    }
  ]
}
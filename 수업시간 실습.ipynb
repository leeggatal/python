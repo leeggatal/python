{
  "nbformat": 4,
  "nbformat_minor": 0,
  "metadata": {
    "colab": {
      "name": "Untitled2.ipynb",
      "provenance": [],
      "authorship_tag": "ABX9TyOMO89KHi6GA7hS1ej6IV5q",
      "include_colab_link": true
    },
    "kernelspec": {
      "name": "python3",
      "display_name": "Python 3"
    },
    "language_info": {
      "name": "python"
    }
  },
  "cells": [
    {
      "cell_type": "markdown",
      "metadata": {
        "id": "view-in-github",
        "colab_type": "text"
      },
      "source": [
        "<a href=\"https://colab.research.google.com/github/leeggatal/python/blob/main/%EC%88%98%EC%97%85%EC%8B%9C%EA%B0%84%20%EC%8B%A4%EC%8A%B5.ipynb\" target=\"_parent\"><img src=\"https://colab.research.google.com/assets/colab-badge.svg\" alt=\"Open In Colab\"/></a>"
      ]
    },
    {
      "cell_type": "code",
      "metadata": {
        "colab": {
          "base_uri": "https://localhost:8080/"
        },
        "id": "PxkKXaSODCyP",
        "outputId": "1c81f70e-7de3-4681-d888-7b9f032d172b"
      },
      "source": [
        "age=20\n",
        "if age<20:\n",
        "  print(\"20살 미만\")\n",
        "\n",
        "else:\n",
        "  print(\"20살 이상\")"
      ],
      "execution_count": 1,
      "outputs": [
        {
          "output_type": "stream",
          "name": "stdout",
          "text": [
            "20살 이상\n"
          ]
        }
      ]
    },
    {
      "cell_type": "code",
      "metadata": {
        "colab": {
          "base_uri": "https://localhost:8080/"
        },
        "id": "uKlB71LAEc7S",
        "outputId": "308d1e2d-8696-474e-f5ee-3edf726d8ae1"
      },
      "source": [
        "temp=int(input(\"현재 온도를 입력하세요:\"))\n",
        "\n",
        "if temp>=25:\n",
        "  print(\"반바지 입어요\")\n",
        "else:\n",
        "  print(\"긴바지 없어요\")"
      ],
      "execution_count": 2,
      "outputs": [
        {
          "output_type": "stream",
          "name": "stdout",
          "text": [
            "현재 온도를 입력하세요:23\n",
            "긴바지 없어요\n"
          ]
        }
      ]
    },
    {
      "cell_type": "code",
      "metadata": {
        "colab": {
          "base_uri": "https://localhost:8080/"
        },
        "id": "8dVpn4IPFHg5",
        "outputId": "a0e3aced-de97-49fd-e42c-492af771dcdc"
      },
      "source": [
        "score=int(input(\"점수를 입력하세요:\"))\n",
        "if (score>=90):\n",
        "  print(\"A예요\")\n",
        "elif (score>=80):\n",
        "  print(\"B예요\")\n",
        "elif (score>=70):\n",
        "  print(\"C예요\")\n",
        "elif (score>=60):\n",
        "  print(\"D예요\")\n",
        "else:\n",
        "  print(\"F예요. 다음에 또봐요!\")"
      ],
      "execution_count": 9,
      "outputs": [
        {
          "output_type": "stream",
          "name": "stdout",
          "text": [
            "점수를 입력하세요:88\n",
            "B예요\n"
          ]
        }
      ]
    },
    {
      "cell_type": "code",
      "metadata": {
        "colab": {
          "base_uri": "https://localhost:8080/"
        },
        "id": "nF7M8HwyGvrp",
        "outputId": "dad2700d-9d68-4163-9ead-633e097e296a"
      },
      "source": [
        "import random\n",
        "x=random.randint(1,100)\n",
        "y=random.randint(1,100)\n",
        "\n",
        "answer=int(input(str(x)+\"-\"+str(y)+\"=\"))\n",
        "if answer ==x-y:\n",
        "  print(\"맞았습니다\")\n",
        "else:\n",
        "  print(\"틀렸습니다\")"
      ],
      "execution_count": 18,
      "outputs": [
        {
          "output_type": "stream",
          "name": "stdout",
          "text": [
            "57-91=-34\n",
            "맞았습니다\n"
          ]
        }
      ]
    },
    {
      "cell_type": "code",
      "metadata": {
        "colab": {
          "base_uri": "https://localhost:8080/"
        },
        "id": "ucuyLWEsIpLi",
        "outputId": "d2b630e6-c2d0-49e2-9de4-0238691f0da8"
      },
      "source": [
        "n=int(input(\"정수를 입력하시오\"))\n",
        "if n%2 == 0 and n%3 ==0:\n",
        "  print(\"2와 3으로 나누어 떨어져요\")\n",
        "else:\n",
        "  print(\"안되요\")"
      ],
      "execution_count": 44,
      "outputs": [
        {
          "output_type": "stream",
          "name": "stdout",
          "text": [
            "정수를 입력하시오5\n",
            "안되요\n"
          ]
        }
      ]
    },
    {
      "cell_type": "code",
      "metadata": {
        "colab": {
          "base_uri": "https://localhost:8080/"
        },
        "id": "hO0TYKbyLL6n",
        "outputId": "58d81cd8-4477-422b-ee2e-141cbece3e81"
      },
      "source": [
        "for i in range(2,101):\n",
        "  if i%2==0:\n",
        "    print(1,end=\"\")"
      ],
      "execution_count": 46,
      "outputs": [
        {
          "output_type": "stream",
          "name": "stdout",
          "text": [
            "11111111111111111111111111111111111111111111111111"
          ]
        }
      ]
    }
  ]
}
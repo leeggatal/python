{
  "nbformat": 4,
  "nbformat_minor": 0,
  "metadata": {
    "colab": {
      "name": "도전문제 1장.ipynb",
      "provenance": [],
      "authorship_tag": "ABX9TyOT/OXafz7iaog0axxWanso",
      "include_colab_link": true
    },
    "kernelspec": {
      "name": "python3",
      "display_name": "Python 3"
    },
    "language_info": {
      "name": "python"
    }
  },
  "cells": [
    {
      "cell_type": "markdown",
      "metadata": {
        "id": "view-in-github",
        "colab_type": "text"
      },
      "source": [
        "<a href=\"https://colab.research.google.com/github/leeggatal/python/blob/main/%EB%8F%84%EC%A0%84%EB%AC%B8%EC%A0%9C_1%EC%9E%A5.ipynb\" target=\"_parent\"><img src=\"https://colab.research.google.com/assets/colab-badge.svg\" alt=\"Open In Colab\"/></a>"
      ]
    },
    {
      "cell_type": "code",
      "metadata": {
        "colab": {
          "base_uri": "https://localhost:8080/"
        },
        "id": "iD9q0t0cDHM8",
        "outputId": "bd3911f1-700a-4973-a3b2-ad76222cbfb6"
      },
      "source": [
        "print(\"안녕하세요?\")\n",
        "print(\"programming에 입문하신 것을 축하드립니다.\")   "
      ],
      "execution_count": null,
      "outputs": [
        {
          "output_type": "stream",
          "name": "stdout",
          "text": [
            "안녕하세요?\n",
            "programming에 입문하신 것을 축하드립니다.\n"
          ]
        }
      ]
    },
    {
      "cell_type": "code",
      "metadata": {
        "colab": {
          "base_uri": "https://localhost:8080/"
        },
        "id": "ITsQvkIIG-Yw",
        "outputId": "8e3101e4-0c60-46a7-c4c2-d235314a311c"
      },
      "source": [
        "print(3.141592*10.0*10.0)\n",
        "print((1/100)*1234)"
      ],
      "execution_count": null,
      "outputs": [
        {
          "output_type": "stream",
          "name": "stdout",
          "text": [
            "314.1592\n",
            "12.34\n"
          ]
        }
      ]
    }
  ]
}
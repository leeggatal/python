{
  "nbformat": 4,
  "nbformat_minor": 0,
  "metadata": {
    "colab": {
      "name": "연습문제_4.ipynb",
      "provenance": [],
      "authorship_tag": "ABX9TyPt7duuyqMpQMw4BJTOuoSO",
      "include_colab_link": true
    },
    "kernelspec": {
      "name": "python3",
      "display_name": "Python 3"
    },
    "language_info": {
      "name": "python"
    }
  },
  "cells": [
    {
      "cell_type": "markdown",
      "metadata": {
        "id": "view-in-github",
        "colab_type": "text"
      },
      "source": [
        "<a href=\"https://colab.research.google.com/github/leeggatal/python/blob/main/%EC%97%B0%EC%8A%B5%EB%AC%B8%EC%A0%9C_4.ipynb\" target=\"_parent\"><img src=\"https://colab.research.google.com/assets/colab-badge.svg\" alt=\"Open In Colab\"/></a>"
      ]
    },
    {
      "cell_type": "code",
      "metadata": {
        "colab": {
          "base_uri": "https://localhost:8080/",
          "height": 35
        },
        "id": "kNbkt5djbT05",
        "outputId": "219b7b15-6c42-4a73-ac29-40fb60287549"
      },
      "source": [
        "'나는'+str(12)+'개의 사과를 먹었다.'"
      ],
      "execution_count": 2,
      "outputs": [
        {
          "output_type": "execute_result",
          "data": {
            "application/vnd.google.colaboratory.intrinsic+json": {
              "type": "string"
            },
            "text/plain": [
              "'나는12개의 사과를 먹었다.'"
            ]
          },
          "metadata": {},
          "execution_count": 2
        }
      ]
    },
    {
      "cell_type": "code",
      "metadata": {
        "colab": {
          "base_uri": "https://localhost:8080/",
          "height": 35
        },
        "id": "lxeBIm_QbsD_",
        "outputId": "576a0418-c82c-4002-e9e3-1675037e2b51"
      },
      "source": [
        "'apple'+'grape'\n",
        "'apple'*3"
      ],
      "execution_count": 3,
      "outputs": [
        {
          "output_type": "execute_result",
          "data": {
            "application/vnd.google.colaboratory.intrinsic+json": {
              "type": "string"
            },
            "text/plain": [
              "'appleappleapple'"
            ]
          },
          "metadata": {},
          "execution_count": 3
        }
      ]
    },
    {
      "cell_type": "code",
      "metadata": {
        "colab": {
          "base_uri": "https://localhost:8080/"
        },
        "id": "mS8oGDW1cJp4",
        "outputId": "74dc3561-4815-4a1d-c35b-d5fa31904432"
      },
      "source": [
        "str=input(\"문자열을 입력하시오:\")\n",
        "s=str[0:2]+str[-2:]"
      ],
      "execution_count": 9,
      "outputs": [
        {
          "name": "stdout",
          "output_type": "stream",
          "text": [
            "문자열을 입력하시오:python\n"
          ]
        }
      ]
    },
    {
      "cell_type": "code",
      "metadata": {
        "colab": {
          "base_uri": "https://localhost:8080/"
        },
        "id": "B44h8JTzckoD",
        "outputId": "64215ac4-8c3d-40f1-9d50-1e0eb2abe795"
      },
      "source": [
        "s=input(\"문자열을 입력하시오:\")\n",
        "s+=\"하는 중\"\n",
        "print(s)"
      ],
      "execution_count": 8,
      "outputs": [
        {
          "output_type": "stream",
          "name": "stdout",
          "text": [
            "문자열을 입력하시오:청소\n",
            "청소하는 중\n"
          ]
        }
      ]
    },
    {
      "cell_type": "code",
      "metadata": {
        "colab": {
          "base_uri": "https://localhost:8080/"
        },
        "id": "0g52Qpj4dFkL",
        "outputId": "8154d7db-f9ee-4fd4-d824-de17c614f7a8"
      },
      "source": [
        "str=input(\"기호를 입력하시오:\")\n",
        "word=input(\"중간에 삽입할 문자열을 입력하시오:\")\n",
        "s=str[:1]+word+str[1:]\n",
        "\n",
        "print(s)"
      ],
      "execution_count": 11,
      "outputs": [
        {
          "output_type": "stream",
          "name": "stdout",
          "text": [
            "기호를 입력하시오:[]\n",
            "중간에 삽입할 문자열을 입력하시오:python\n",
            "[python]\n"
          ]
        }
      ]
    },
    {
      "cell_type": "code",
      "metadata": {
        "colab": {
          "base_uri": "https://localhost:8080/"
        },
        "id": "RQ_nEx8Ndjzc",
        "outputId": "e7f721c2-08a4-49b7-bb2a-7bea8dc66077"
      },
      "source": [
        "lista=[1,2,3,4,]\n",
        "sum=0\n",
        "sum=lista[0]+lista[1]+lista[2]+lista[3]\n",
        "print(\"리스트=\",lista)\n",
        "print(\"리스트 숫자들의 합=\",sum)"
      ],
      "execution_count": 13,
      "outputs": [
        {
          "output_type": "stream",
          "name": "stdout",
          "text": [
            "리스트= [1, 2, 3, 4]\n",
            "리스트 숫자들의 합= 10\n"
          ]
        }
      ]
    }
  ]
}

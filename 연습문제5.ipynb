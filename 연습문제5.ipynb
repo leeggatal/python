{
  "nbformat": 4,
  "nbformat_minor": 0,
  "metadata": {
    "colab": {
      "name": "연습문제5.ipynb",
      "provenance": [],
      "authorship_tag": "ABX9TyMCcVsYxIZN4IonnYS4mhk8",
      "include_colab_link": true
    },
    "kernelspec": {
      "name": "python3",
      "display_name": "Python 3"
    },
    "language_info": {
      "name": "python"
    }
  },
  "cells": [
    {
      "cell_type": "markdown",
      "metadata": {
        "id": "view-in-github",
        "colab_type": "text"
      },
      "source": [
        "<a href=\"https://colab.research.google.com/github/leeggatal/python/blob/main/%EC%97%B0%EC%8A%B5%EB%AC%B8%EC%A0%9C5.ipynb\" target=\"_parent\"><img src=\"https://colab.research.google.com/assets/colab-badge.svg\" alt=\"Open In Colab\"/></a>"
      ]
    },
    {
      "cell_type": "code",
      "metadata": {
        "colab": {
          "base_uri": "https://localhost:8080/"
        },
        "id": "-fjN5L3IUA7z",
        "outputId": "6c77b152-df63-4bbd-c393-b0475b87ad64"
      },
      "source": [
        "age=20\n",
        "if age<20:\n",
        "  print('20살 미만')\n",
        "else:\n",
        "    print('20살 이상')"
      ],
      "execution_count": null,
      "outputs": [
        {
          "output_type": "stream",
          "name": "stdout",
          "text": [
            "20살 이상\n"
          ]
        }
      ]
    },
    {
      "cell_type": "code",
      "metadata": {
        "id": "Pq6tp3rYUbJl"
      },
      "source": [
        "age=20\n",
        "if age>=30 and age<=50:\n",
        "  print('30살 이상이고 50살 이하')"
      ],
      "execution_count": null,
      "outputs": []
    },
    {
      "cell_type": "code",
      "metadata": {
        "colab": {
          "base_uri": "https://localhost:8080/"
        },
        "id": "SN_cKNH-UuGN",
        "outputId": "6fe1b811-b47a-47c4-f1fb-2eafec504a55"
      },
      "source": [
        "temp=int(input(\"현재 온도를 입력하시오:\"))\n",
        "\n",
        "if temp>=25:\n",
        "  print(\"반바지를 입으세요\")\n",
        "else:\n",
        "    print(\"긴바지를 입으세요\")"
      ],
      "execution_count": null,
      "outputs": [
        {
          "output_type": "stream",
          "name": "stdout",
          "text": [
            "현재 온도를 입력하시오:10\n",
            "긴바지를 입으세요\n"
          ]
        }
      ]
    },
    {
      "cell_type": "code",
      "metadata": {
        "colab": {
          "base_uri": "https://localhost:8080/"
        },
        "id": "jE0ZO2v-VIlg",
        "outputId": "52074600-1538-4b90-b486-407ae68d47fd"
      },
      "source": [
        "score=int(input(\"성적을 입력하시오:\"))\n",
        "\n",
        "if score >= 90:\n",
        "  print(\"A학점입니다.\")\n",
        "elif score >= 80:\n",
        "  print(\"B학점입니다.\")\n",
        "elif score >= 70:\n",
        "  print(\"C학점입니다.\")\n",
        "elif score >= 60:\n",
        "  print(\"D학점입니다.\")\n",
        "else:\n",
        "  print(\"F학점입니다.\")"
      ],
      "execution_count": null,
      "outputs": [
        {
          "output_type": "stream",
          "name": "stdout",
          "text": [
            "성적을 입력하시오:85\n",
            "B학점입니다.\n"
          ]
        }
      ]
    },
    {
      "cell_type": "code",
      "metadata": {
        "colab": {
          "base_uri": "https://localhost:8080/"
        },
        "id": "QkRN-C3oXiaE",
        "outputId": "d0107f47-ffe2-4fd5-930d-a4369825d020"
      },
      "source": [
        "import random\n",
        "x=random.randint(1,100)\n",
        "y=random.randint(1,100)\n",
        "\n",
        "ans=int(input(str(x)+\"-\"+str(y)+\"-\"))\n",
        "\n",
        "if ans == x-y:\n",
        "  print(\"맞았습니다.\")\n",
        "else:\n",
        "  print(\"틀렸습니다.\")"
      ],
      "execution_count": null,
      "outputs": [
        {
          "output_type": "stream",
          "name": "stdout",
          "text": [
            "58-26-32\n",
            "맞았습니다.\n"
          ]
        }
      ]
    },
    {
      "cell_type": "code",
      "metadata": {
        "colab": {
          "base_uri": "https://localhost:8080/"
        },
        "id": "lG5TZlpHc6Zf",
        "outputId": "0cdd2072-47c2-4e4e-95b3-cdc828ac9c98"
      },
      "source": [
        "n=int(input(\"정수를 입력하시오:\"))\n",
        "\n",
        "if n%2==0 and n%3==0:\n",
        "  print(\"2와 3으로 나누어 떨어집니다.\")\n",
        "else:\n",
        "  print(\"2와 3으로 나누어 떨어지지 않습니다.\")"
      ],
      "execution_count": null,
      "outputs": [
        {
          "output_type": "stream",
          "name": "stdout",
          "text": [
            "정수를 입력하시오:6\n",
            "2와 3으로 나누어 떨어집니다.\n"
          ]
        }
      ]
    },
    {
      "cell_type": "code",
      "metadata": {
        "id": "312Bc130eGXd",
        "colab": {
          "base_uri": "https://localhost:8080/"
        },
        "outputId": "4ce5c278-1aeb-438a-a7de-e723520dcb53"
      },
      "source": [
        "import random \n",
        "\n",
        "solution=random.randint(0,99)\n",
        "\n",
        "user=int(input(\"복권번호를 입력하시오(0에서 99사이):\"))\n",
        "\n",
        "digit1=solution//10\n",
        "digit2=solution%10\n",
        "\n",
        "u_digit1=user//10\n",
        "u_digit2=user%10\n",
        "\n",
        "print(\"당첨번호는\",solution,\"입니다.\")\n",
        "\n",
        "if (digit1 == u_digit1 and digit2 == u_digit2):\n",
        "    print(\"상금은 100만원입니다.\")\n",
        "elif(digit1==u_digit1\n",
        "     or digit1==u_digit2\n",
        "     or digit2==u_digit1\n",
        "     or digit2==u_digit2):\n",
        "   print(\"상금은 50만원입니다.\")\n",
        "else:\n",
        "  print(\"상금은 없습니다.\")\n"
      ],
      "execution_count": 10,
      "outputs": [
        {
          "output_type": "stream",
          "name": "stdout",
          "text": [
            "복권번호를 입력하시오(0에서 99사이):67\n",
            "당첨번호는 98 입니다.\n",
            "상금은 없습니다.\n"
          ]
        }
      ]
    },
    {
      "cell_type": "code",
      "metadata": {
        "id": "sQOwQ-uGhBx-"
      },
      "source": [
        ""
      ],
      "execution_count": null,
      "outputs": []
    }
  ]
}
{
  "nbformat": 4,
  "nbformat_minor": 0,
  "metadata": {
    "colab": {
      "name": "Untitled6.ipynb",
      "provenance": [],
      "authorship_tag": "ABX9TyN8X1H+aOF7B+hHFCmIyuVZ",
      "include_colab_link": true
    },
    "kernelspec": {
      "name": "python3",
      "display_name": "Python 3"
    },
    "language_info": {
      "name": "python"
    }
  },
  "cells": [
    {
      "cell_type": "markdown",
      "metadata": {
        "id": "view-in-github",
        "colab_type": "text"
      },
      "source": [
        "<a href=\"https://colab.research.google.com/github/leeggatal/python/blob/main/%EC%97%B0%EC%8A%B5%EB%AC%B8%EC%A0%9C6.ipynb\" target=\"_parent\"><img src=\"https://colab.research.google.com/assets/colab-badge.svg\" alt=\"Open In Colab\"/></a>"
      ]
    },
    {
      "cell_type": "code",
      "metadata": {
        "colab": {
          "base_uri": "https://localhost:8080/"
        },
        "id": "LIj3CFAC52ru",
        "outputId": "7798f2bc-c7e3-470d-e397-2c5960cfde09"
      },
      "source": [
        "for i in range(2,101):\n",
        "  if i%2==0:\n",
        "    print(i,end=\"\")"
      ],
      "execution_count": 1,
      "outputs": [
        {
          "output_type": "stream",
          "name": "stdout",
          "text": [
            "2468101214161820222426283032343638404244464850525456586062646668707274767880828486889092949698100"
          ]
        }
      ]
    },
    {
      "cell_type": "code",
      "metadata": {
        "colab": {
          "base_uri": "https://localhost:8080/"
        },
        "id": "3KKGT_9G61bq",
        "outputId": "aed4ad4b-8c17-4f8e-9b70-b2ca494a0a5a"
      },
      "source": [
        "year=0\n",
        "balance=1000\n",
        "\n",
        "while balance<=2000:\n",
        "  year=year+1\n",
        "  interest=balance*0.07\n",
        "  balance=balance+interest\n",
        "print(year,\"년이 걸립니다.\")"
      ],
      "execution_count": 3,
      "outputs": [
        {
          "output_type": "stream",
          "name": "stdout",
          "text": [
            "11 년이 걸립니다.\n"
          ]
        }
      ]
    },
    {
      "cell_type": "code",
      "metadata": {
        "colab": {
          "base_uri": "https://localhost:8080/"
        },
        "id": "p84Dn1c07itj",
        "outputId": "6db67bd4-c1fd-4c9e-a72b-b6b6eb1f38e8"
      },
      "source": [
        "n=1234\n",
        "sum=0\n",
        "while n>0:\n",
        "  digit=n%10\n",
        "  sum=sum+digit\n",
        "  n=n//10\n",
        "print(sum)"
      ],
      "execution_count": 6,
      "outputs": [
        {
          "output_type": "stream",
          "name": "stdout",
          "text": [
            "10\n"
          ]
        }
      ]
    },
    {
      "cell_type": "code",
      "metadata": {
        "colab": {
          "base_uri": "https://localhost:8080/"
        },
        "id": "y6tMxizs8ts7",
        "outputId": "387725e8-1056-40be-a694-64f142618282"
      },
      "source": [
        "ans=0\n",
        "while ans !=3*9:\n",
        "  ans=int(input(\"3*9는\"))\n",
        "print(\"맞았습니다.\")"
      ],
      "execution_count": 7,
      "outputs": [
        {
          "output_type": "stream",
          "name": "stdout",
          "text": [
            "3*9는8\n",
            "3*9는9\n",
            "3*9는27\n",
            "맞았습니다.\n"
          ]
        }
      ]
    },
    {
      "cell_type": "code",
      "metadata": {
        "colab": {
          "base_uri": "https://localhost:8080/"
        },
        "id": "yRwfwKqD9gY5",
        "outputId": "783dd84b-e2ba-45bc-fec9-3a260766eb49"
      },
      "source": [
        "sum=0\n",
        "while True:\n",
        "  x=int(input(\"정수를 입력하시오:\"))\n",
        "  if x==0:\n",
        "    break;\n",
        "  sum=sum+x\n",
        "\n",
        "print(\"합은\",sum,\"입니다.\")"
      ],
      "execution_count": 8,
      "outputs": [
        {
          "output_type": "stream",
          "name": "stdout",
          "text": [
            "정수를 입력하시오:1\n",
            "정수를 입력하시오:2\n",
            "정수를 입력하시오:3\n",
            "정수를 입력하시오:0\n",
            "합은 6 입니다.\n"
          ]
        }
      ]
    },
    {
      "cell_type": "code",
      "metadata": {
        "colab": {
          "base_uri": "https://localhost:8080/"
        },
        "id": "XdDDigce_MKe",
        "outputId": "3817be8d-82ac-4366-a550-54432ac25c16"
      },
      "source": [
        "from random import randint\n",
        "\n",
        "for i in range(3):\n",
        "  d1=randint(1,6)\n",
        "  d2=randint(1,6)\n",
        "  print(\"첫번째 주사위=\",d1,\"두번째 주사위=\",d2)"
      ],
      "execution_count": 11,
      "outputs": [
        {
          "output_type": "stream",
          "name": "stdout",
          "text": [
            "첫번째 주사위= 6 두번째 주사위= 4\n",
            "첫번째 주사위= 6 두번째 주사위= 4\n",
            "첫번째 주사위= 2 두번째 주사위= 2\n"
          ]
        }
      ]
    }
  ]
}
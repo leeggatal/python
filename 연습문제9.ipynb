{
  "nbformat": 4,
  "nbformat_minor": 0,
  "metadata": {
    "colab": {
      "name": "Untitled9.ipynb",
      "provenance": [],
      "authorship_tag": "ABX9TyNv+PziBpc0FJEcrlAeZl06",
      "include_colab_link": true
    },
    "kernelspec": {
      "name": "python3",
      "display_name": "Python 3"
    },
    "language_info": {
      "name": "python"
    }
  },
  "cells": [
    {
      "cell_type": "markdown",
      "metadata": {
        "id": "view-in-github",
        "colab_type": "text"
      },
      "source": [
        "<a href=\"https://colab.research.google.com/github/leeggatal/python/blob/main/%EC%97%B0%EC%8A%B5%EB%AC%B8%EC%A0%9C9.ipynb\" target=\"_parent\"><img src=\"https://colab.research.google.com/assets/colab-badge.svg\" alt=\"Open In Colab\"/></a>"
      ]
    },
    {
      "cell_type": "code",
      "metadata": {
        "colab": {
          "base_uri": "https://localhost:8080/"
        },
        "id": "WgwSW_ufV-To",
        "outputId": "0d247cfb-8ff7-4794-d1f6-2a3c42a0c97c"
      },
      "source": [
        "alist=[]\n",
        "sum=0\n",
        "\n",
        "for i in range(5):\n",
        "  i=int(input(\"정수를 입력하시오:\"))\n",
        "  alist.append(i)\n",
        "\n",
        "for i in alist:\n",
        "  sum+=i\n",
        "avg=sum/len(alist)\n",
        "print(\"평균=\",avg)"
      ],
      "execution_count": 1,
      "outputs": [
        {
          "output_type": "stream",
          "name": "stdout",
          "text": [
            "정수를 입력하시오:10\n",
            "정수를 입력하시오:20\n",
            "정수를 입력하시오:30\n",
            "정수를 입력하시오:40\n",
            "정수를 입력하시오:50\n",
            "평균= 30.0\n"
          ]
        }
      ]
    },
    {
      "cell_type": "code",
      "metadata": {
        "colab": {
          "base_uri": "https://localhost:8080/"
        },
        "id": "MtuQMWdWcCHY",
        "outputId": "f7c92c85-11a1-4147-85fa-4309d1eae130"
      },
      "source": [
        "import random\n",
        "counters=[0,0,0,0,0,0]\n",
        "\n",
        "for i in range(1000):\n",
        "      value=random.randint(0,5)\n",
        "      counters[value]=counters[value]+1\n",
        "\n",
        "for i in range(6):\n",
        "  print(\"주사위가\",i+1,\"인 경우는\",counters[i],\"번\")"
      ],
      "execution_count": 5,
      "outputs": [
        {
          "output_type": "stream",
          "name": "stdout",
          "text": [
            "주사위가 1 인 경우는 184 번\n",
            "주사위가 2 인 경우는 150 번\n",
            "주사위가 3 인 경우는 156 번\n",
            "주사위가 4 인 경우는 172 번\n",
            "주사위가 5 인 경우는 179 번\n",
            "주사위가 6 인 경우는 159 번\n"
          ]
        }
      ]
    },
    {
      "cell_type": "code",
      "metadata": {
        "colab": {
          "base_uri": "https://localhost:8080/"
        },
        "id": "GF80Y-bBc5KK",
        "outputId": "fadadc11-b3a7-490a-bc54-d5d73700ce93"
      },
      "source": [
        "def inputData():\n",
        "    while True:\n",
        "      name=input(\"(입력모드)이름을 입력하시오:\")\n",
        "      if not name: break;\n",
        "      tel=input(\"전화번호를 입력하시오:\")\n",
        "\n",
        "      contact[name]=tel\n",
        "\n",
        "def select():\n",
        "    while True:\n",
        "      name=input(\"(검색모드)이름을 입력하시오:\")\n",
        "\n",
        "      if not name: break;\n",
        "      print(name,\"의 전화번호는\",contact[name],\"입니다.\")\n",
        "     \n",
        "contact={}\n",
        "\n",
        "while True:\n",
        "    inputData()\n",
        "    select()"
      ],
      "execution_count": null,
      "outputs": [
        {
          "output_type": "stream",
          "name": "stdout",
          "text": [
            "(입력모드)이름을 입력하시오:홍길동\n",
            "전화번호를 입력하시오:111-2222\n",
            "(입력모드)이름을 입력하시오:김철수\n",
            "전화번호를 입력하시오:222-3333\n",
            "(입력모드)이름을 입력하시오:\n",
            "(검색모드)이름을 입력하시오:홍길동\n",
            "홍길동 의 전화번호는 111-2222 입니다.\n",
            "(검색모드)이름을 입력하시오:김철수\n",
            "김철수 의 전화번호는 222-3333 입니다.\n"
          ]
        }
      ]
    },
    {
      "cell_type": "code",
      "metadata": {
        "colab": {
          "base_uri": "https://localhost:8080/"
        },
        "id": "apJQNPGsuUjV",
        "outputId": "071fe3aa-4be8-42e8-859b-e9496d25f93b"
      },
      "source": [
        "domains={\"kr\":\"대한민국\",\"us\":\"미국\",\"jp\":\"일본\",\"de\":\"독일\",\"sk\":\"슬로바키아\",\"hu\":\"헝가리\",\"no\":\"노르웨이\"}\n",
        "\n",
        "for k,v in domains.items():\n",
        "  print(k,\":\",v)"
      ],
      "execution_count": 27,
      "outputs": [
        {
          "output_type": "stream",
          "name": "stdout",
          "text": [
            "kr : 대한민국\n",
            "us : 미국\n",
            "jp : 일본\n",
            "de : 독일\n",
            "sk : 슬로바키아\n",
            "hu : 헝가리\n",
            "no : 노르웨이\n"
          ]
        }
      ]
    },
    {
      "cell_type": "code",
      "metadata": {
        "colab": {
          "base_uri": "https://localhost:8080/"
        },
        "id": "Xo0Ni76-vNWF",
        "outputId": "1307b2ba-3605-4933-b481-ee4028ba59cc"
      },
      "source": [
        "problems={'파이썬':'최근에 가장 떠오르는 프로그래밍 언어',\n",
        "            '변수':'데이터를 저장하는 메모리 공간',\n",
        "            '함수':'작업을 수행하는 문장들의 집합에 이름을 붙인것',\n",
        "          '리스트':'서로 관련이 없는 항목들이 모임',\n",
        "           }\n",
        "\n",
        "\n",
        "\n",
        "for word in problems.keys():\n",
        "  print(\"다음은 어떤 단어에 대한 설명일까요?\")\n",
        "  print(problems[word])\n",
        "  print(\"(1)파이썬 (2)변수 (3)함수 (4)리스트\")\n",
        " \n",
        "  ans=input(\"\")\n",
        "  if ans == word:\n",
        "      print(\"정답\")\n",
        "  else:\n",
        "      print(\"오답\")"
      ],
      "execution_count": 36,
      "outputs": [
        {
          "output_type": "stream",
          "name": "stdout",
          "text": [
            "다음은 어떤 단어에 대한 설명일까요?\n",
            "최근에 가장 떠오르는 프로그래밍 언어\n",
            "(1)파이썬 (2)변수 (3)함수 (4)리스트\n",
            "파이썬\n",
            "정답\n",
            "다음은 어떤 단어에 대한 설명일까요?\n",
            "데이터를 저장하는 메모리 공간\n",
            "(1)파이썬 (2)변수 (3)함수 (4)리스트\n",
            "2\n",
            "오답\n",
            "다음은 어떤 단어에 대한 설명일까요?\n",
            "작업을 수행하는 문장들의 집합에 이름을 붙인것\n",
            "(1)파이썬 (2)변수 (3)함수 (4)리스트\n",
            "3\n",
            "오답\n",
            "다음은 어떤 단어에 대한 설명일까요?\n",
            "서로 관련이 없는 항목들이 모임\n",
            "(1)파이썬 (2)변수 (3)함수 (4)리스트\n",
            "리스트\n",
            "정답\n"
          ]
        }
      ]
    }
  ]
}
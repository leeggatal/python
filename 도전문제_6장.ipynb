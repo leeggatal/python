{
  "nbformat": 4,
  "nbformat_minor": 0,
  "metadata": {
    "colab": {
      "name": "Untitled5.ipynb",
      "provenance": [],
      "authorship_tag": "ABX9TyPOpwTQ66kNvNX13MInS8xG",
      "include_colab_link": true
    },
    "kernelspec": {
      "name": "python3",
      "display_name": "Python 3"
    },
    "language_info": {
      "name": "python"
    }
  },
  "cells": [
    {
      "cell_type": "markdown",
      "metadata": {
        "id": "view-in-github",
        "colab_type": "text"
      },
      "source": [
        "<a href=\"https://colab.research.google.com/github/leeggatal/python/blob/main/%EB%8F%84%EC%A0%84%EB%AC%B8%EC%A0%9C_6%EC%9E%A5.ipynb\" target=\"_parent\"><img src=\"https://colab.research.google.com/assets/colab-badge.svg\" alt=\"Open In Colab\"/></a>"
      ]
    },
    {
      "cell_type": "code",
      "metadata": {
        "colab": {
          "base_uri": "https://localhost:8080/"
        },
        "id": "sup-6sepjMjH",
        "outputId": "b8c83cbd-e76f-431b-a038-a96f65c19051"
      },
      "source": [
        "import random \n",
        "\n",
        "tries=0\n",
        "guess=0\n",
        "answer=random.randint(1,100)\n",
        "\n",
        "print(\"1부터 100사이의 숫자를 맞추시오:\")\n",
        "\n",
        "while guess !=answer:\n",
        "  if tries<10:\n",
        "    guess=int(input(\"숫자를 입력하시오:\"))\n",
        "    tries=tries+1\n",
        "    if guess<answer:\n",
        "      print(\"낮음!\")\n",
        "    elif guess>answer:\n",
        "      print(\"높음!\")\n",
        "\n",
        "  else:\n",
        "    print(\"시도횟수를 초과하였습니다.\")\n",
        "  break\n",
        "  \n",
        "if guess==answer:\n",
        "    print(\"축하합니다. 시도횟수=\",tries)\n",
        "else:\n",
        "    print(\"정답은\",answer)"
      ],
      "execution_count": 12,
      "outputs": [
        {
          "output_type": "stream",
          "name": "stdout",
          "text": [
            "1부터 100사이의 숫자를 맞추시오:\n",
            "숫자를 입력하시오:80\n",
            "높음!\n",
            "정답은 79\n"
          ]
        }
      ]
    },
    {
      "cell_type": "code",
      "metadata": {
        "colab": {
          "base_uri": "https://localhost:8080/"
        },
        "id": "Wn7UQOQil_UT",
        "outputId": "e05396c1-fbd8-4edc-c5d2-2f974ffd50e7"
      },
      "source": [
        "import random\n",
        "\n",
        "while True:\n",
        "  q=random.randint(0,1)\n",
        "  x=random.randint(1,100)\n",
        "  y=random.randint(1,100)\n",
        "  if(q==1)&(x>y):\n",
        "    print(x,\"-\",y,\"=\",end=\"\")\n",
        "    answer=int(input())\n",
        "    if answer==x-y:\n",
        "      print(\"잘했어요!!\")\n",
        "    else:\n",
        "      print(\"다음번에는 잘할 수 있죠?\")\n",
        "\n",
        "else:\n",
        "  print(x,\"+\",y,\"=\",end=\"\")\n",
        "  answer+int(input())\n",
        "  if answer==x+y:\n",
        "    print(\"잘했어요!!\")\n",
        "  else:\n",
        "    print(\"다음번에는 잘할 수 있죠?\")"
      ],
      "execution_count": null,
      "outputs": [
        {
          "name": "stdout",
          "output_type": "stream",
          "text": [
            "75 - 37 =38\n",
            "잘했어요!!\n",
            "93 - 61 =32\n",
            "잘했어요!!\n",
            "99 - 64 =35\n",
            "잘했어요!!\n",
            "43 - 4 =39\n",
            "잘했어요!!\n",
            "87 - 60 =20\n",
            "다음번에는 잘할 수 있죠?\n",
            "99 - 92 =7\n",
            "잘했어요!!\n",
            "89 - 69 =\n"
          ]
        }
      ]
    },
    {
      "cell_type": "code",
      "metadata": {
        "colab": {
          "base_uri": "https://localhost:8080/"
        },
        "id": "m0Kdx-D1oBGt",
        "outputId": "2e5cdb86-82f5-4445-84b2-bc7fe34db3be"
      },
      "source": [
        "import random\n",
        "number=random.randint(1,8)\n",
        "\n",
        "list=[\"한 점의 의심도 없이 맞습니다.\",\"할 수 있습니다.\",\"물론입니다.\",\"글쎄요.열심히 해야 할 것입니다.\",\"안될 것 같습니다.\",\"조금 더 노력하세요.\",\"행운을 빕니다.\",\"다음 달에 할 수 있을 겁니다.\"]\n",
        "\n",
        "while True:\n",
        "  name=input(\"이름:(종료하려면 엔터키)\")\n",
        "  if name==\"\":\n",
        "    break\n",
        "  question=input(\"무엇에 대하여 알고 싶은가요?\")\n",
        "  print(name,\"님\",\"\\\"\",question,\"\\\"에 대하여 질문 주셨군요.\")\n",
        "  print(\"운명의 주사위를 굴려볼게요...\")\n",
        "  print(list[number-1])"
      ],
      "execution_count": 6,
      "outputs": [
        {
          "name": "stdout",
          "output_type": "stream",
          "text": [
            "이름:(종료하려면 엔터키)이영채\n",
            "무엇에 대하여 알고 싶은가요?성적\n",
            "이영채 님 \" 성적 \"에 대하여 질문 주셨군요.\n",
            "운명의 주사위를 굴려볼게요...\n",
            "조금 더 노력하세요.\n",
            "이름:(종료하려면 엔터키)\n"
          ]
        }
      ]
    }
  ]
}
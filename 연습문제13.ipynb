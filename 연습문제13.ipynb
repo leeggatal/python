{
  "nbformat": 4,
  "nbformat_minor": 0,
  "metadata": {
    "colab": {
      "name": "Untitled12.ipynb",
      "provenance": [],
      "authorship_tag": "ABX9TyOZ3ijCVBZqYcNHtNbwpLdT",
      "include_colab_link": true
    },
    "kernelspec": {
      "name": "python3",
      "display_name": "Python 3"
    },
    "language_info": {
      "name": "python"
    }
  },
  "cells": [
    {
      "cell_type": "markdown",
      "metadata": {
        "id": "view-in-github",
        "colab_type": "text"
      },
      "source": [
        "<a href=\"https://colab.research.google.com/github/leeggatal/python/blob/main/%EC%97%B0%EC%8A%B5%EB%AC%B8%EC%A0%9C13.ipynb\" target=\"_parent\"><img src=\"https://colab.research.google.com/assets/colab-badge.svg\" alt=\"Open In Colab\"/></a>"
      ]
    },
    {
      "cell_type": "code",
      "source": [
        "class Circle:\n",
        "  def__init__(self,radius):\n",
        "    self.radius=radius\n",
        "  \n",
        "  def calcPerimeter(self):\n",
        "      return 2*3.141592*self.radius*self.radius\n",
        "\n",
        "circle=Circle(100)\n",
        "print(\"반지름:\",circle.radius,\n",
        "    \"원의 면적:\",circle.calcArea(),\n",
        "    \"원의 둘레:\",circle.calcPerimeter()  );"
      ],
      "metadata": {
        "id": "MCqK10-PdMRS"
      },
      "execution_count": null,
      "outputs": []
    },
    {
      "cell_type": "code",
      "source": [
        "class TV:\n",
        "   def__init__(self):\n",
        "    self.channel=1\n",
        "    self.volume=0\n",
        "    self.on=False\n",
        "\n",
        "    def turn0n(self):\n",
        "        self.on=True\n",
        "\n",
        "    def turnoff(self):\n",
        "        self.on=False\n",
        "\n",
        "    def setVolume(self, volume):\n",
        "        self.volume=volume\n",
        "\n",
        "    def setchannel(self, channel):\n",
        "        self.volume=volume\n",
        "\n",
        "    def setChannel(self, channel):\n",
        "        self.channel=Channel\n",
        "tv=TV()\n",
        "tv.turnon()\n",
        "tv.setchannel(11)\n",
        "tv.serVolume(6)\n",
        "\n",
        "print(\"TV의 채널:\"tv.channel,\"TV의 음량:\",tv.volume);"
      ],
      "metadata": {
        "id": "bYDUHxxjaZp2"
      },
      "execution_count": null,
      "outputs": []
    }
  ]
}
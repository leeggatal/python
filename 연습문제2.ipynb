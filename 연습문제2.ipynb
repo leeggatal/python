{
  "nbformat": 4,
  "nbformat_minor": 0,
  "metadata": {
    "colab": {
      "name": "Untitled",
      "provenance": [],
      "authorship_tag": "ABX9TyMogoFXW4+YC4UGdcdpi2Xj",
      "include_colab_link": true
    },
    "kernelspec": {
      "name": "python3",
      "display_name": "Python 3"
    },
    "language_info": {
      "name": "python"
    }
  },
  "cells": [
    {
      "cell_type": "markdown",
      "metadata": {
        "id": "view-in-github",
        "colab_type": "text"
      },
      "source": [
        "<a href=\"https://colab.research.google.com/github/leeggatal/python/blob/main/%EC%97%B0%EC%8A%B5%EB%AC%B8%EC%A0%9C2.ipynb\" target=\"_parent\"><img src=\"https://colab.research.google.com/assets/colab-badge.svg\" alt=\"Open In Colab\"/></a>"
      ]
    },
    {
      "cell_type": "code",
      "metadata": {
        "colab": {
          "base_uri": "https://localhost:8080/"
        },
        "id": "dP8yvkY5AS1A",
        "outputId": "dae6ff6e-1612-46d7-91da-ca8c7477fa70"
      },
      "source": [
        "name=input(\"이름을 입력하시오:\")\n",
        "age=int(input(\"나이를 입력하시오:\"))\n",
        "year=2021-age+100\n",
        "print(name+\"씨는\"+str(year)+\"년에 100살이시네요!\")"
      ],
      "execution_count": 3,
      "outputs": [
        {
          "output_type": "stream",
          "name": "stdout",
          "text": [
            "이름을 입력하시오:홍길동\n",
            "나이를 입력하시오:20\n",
            "홍길동씨는2101년에 100살이시네요!\n"
          ]
        }
      ]
    },
    {
      "cell_type": "code",
      "metadata": {
        "colab": {
          "base_uri": "https://localhost:8080/"
        },
        "id": "Pfg_IX7iBkum",
        "outputId": "11ff311c-9e9a-490e-fa3a-6fbb076e1c03"
      },
      "source": [
        "n1=int(input(\"첫 번째 숫자를 입력하시오:\"))\n",
        "n2=int(input(\"두 번째 숫자를 입력하시오:\"))\n",
        "n3=int(input(\"세 번재 숫자를 입력하시오:\"))\n",
        "\n",
        "average=(n1+n2+n3)/3\n",
        "\n",
        "print(n1,n2,n3,\"의 평균은\",average,\"입니다.\")"
      ],
      "execution_count": 4,
      "outputs": [
        {
          "output_type": "stream",
          "name": "stdout",
          "text": [
            "첫 번째 숫자를 입력하시오:10\n",
            "두 번째 숫자를 입력하시오:20\n",
            "세 번재 숫자를 입력하시오:30\n",
            "10 20 30 의 평균은 20.0 입니다.\n"
          ]
        }
      ]
    },
    {
      "cell_type": "code",
      "metadata": {
        "colab": {
          "base_uri": "https://localhost:8080/"
        },
        "id": "uIHgCHA8CnKp",
        "outputId": "bed7167e-0ec3-4b81-dc61-a4332e907300"
      },
      "source": [
        "radius=int(input(\"반지름을 입력하시오:\"))\n",
        "area=3.141592*radius*radius\n",
        "print(\"반지름이\",radius,\"인 원의 넓이=\",area,\"입니다.\")"
      ],
      "execution_count": 13,
      "outputs": [
        {
          "output_type": "stream",
          "name": "stdout",
          "text": [
            "반지름을 입력하시오:10\n",
            "반지름이 10 인 원의 넓이= 314.1592 입니다.\n"
          ]
        }
      ]
    }
  ]
}
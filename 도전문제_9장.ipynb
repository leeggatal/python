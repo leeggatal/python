{
  "nbformat": 4,
  "nbformat_minor": 0,
  "metadata": {
    "colab": {
      "name": "Untitled13.ipynb",
      "provenance": [],
      "authorship_tag": "ABX9TyNw1J8S5oe3rmMXSDzBniQu",
      "include_colab_link": true
    },
    "kernelspec": {
      "name": "python3",
      "display_name": "Python 3"
    },
    "language_info": {
      "name": "python"
    }
  },
  "cells": [
    {
      "cell_type": "markdown",
      "metadata": {
        "id": "view-in-github",
        "colab_type": "text"
      },
      "source": [
        "<a href=\"https://colab.research.google.com/github/leeggatal/python/blob/main/%EB%8F%84%EC%A0%84%EB%AC%B8%EC%A0%9C_9%EC%9E%A5.ipynb\" target=\"_parent\"><img src=\"https://colab.research.google.com/assets/colab-badge.svg\" alt=\"Open In Colab\"/></a>"
      ]
    },
    {
      "cell_type": "code",
      "execution_count": null,
      "metadata": {
        "id": "Kdvq0pTNgTA1"
      },
      "outputs": [],
      "source": [
        "import random\n",
        "\n",
        "question=[\"56/8\",\"8*9\",\"50-25\",\"1+6\",\"81/9\",\n",
        "          \"22=10\",\"8/4\",\"9*7\",\"17-4\",\"3+5\"]\n",
        "\n",
        "dailyQuestion=random.choice(question)\n",
        "print(\"##########################\")\n",
        "print(\"# 오늘의 산수 문제 #\")\n",
        "print(\"##########################\")\n",
        "print(\"\")\n",
        "print(dailyQuestion)"
      ]
    },
    {
      "cell_type": "code",
      "source": [
        "items={\"커피음료\":7,\"펜\":3,\"종이컵\":2,\"우유\":1,\"콜라\":4,\"책\":5}\n",
        "\n",
        "while True:\n",
        "  print(\"\")\n",
        "  print(\"# 재고 목록 #\")\n",
        "  for key in sorted(items.keys()):\n",
        "      print(key.items[key])\n",
        "\n",
        "  print(\"/n**********************\")\n",
        "  print(\"0.종료\")\n",
        "  print(\"1.재고 추가\")\n",
        "  print(\"2.재고 삭제\")\n",
        "  print(\"************************\")\n",
        "  a=int(input(\"무엇을 하시겠습니까?:\"))\n",
        "\n",
        "  if a ==1:\n",
        "       item=input(\"물건의 이름을 입력하시오:\")\n",
        "       num=input(\"몇개를 추가하시겠습니까? :\")\n",
        "       items[item]=int(items[item])+int(num)\n",
        "\n",
        "  elif a==2:\n",
        "       item=input(\"물건의 이름을 입력하시오:\")\n",
        "       num=input(\"몇개를 삭제하시겠습니까? :\")\n",
        "       items[item]=int(items[item])-int(num)\n",
        "   \n",
        "   else:\n",
        "        break"
      ],
      "metadata": {
        "id": "6-7iJME8iKHB"
      },
      "execution_count": null,
      "outputs": []
    },
    {
      "cell_type": "code",
      "source": [
        "english_dict=dict()\n",
        "\n",
        "english_dict['하나']='one'\n",
        "english_dict['둘']='two'\n",
        "english_dict['셋']=\"three\"\n",
        "\n",
        "word=input(\"단어를 입력하시오:\")\n",
        "print(english_dict[word])"
      ],
      "metadata": {
        "colab": {
          "base_uri": "https://localhost:8080/"
        },
        "id": "Mhho4vsPkWwI",
        "outputId": "86c7787f-0ea4-403a-b689-86767298af94"
      },
      "execution_count": 2,
      "outputs": [
        {
          "output_type": "stream",
          "name": "stdout",
          "text": [
            "단어를 입력하시오:하나\n",
            "one\n"
          ]
        }
      ]
    },
    {
      "cell_type": "code",
      "source": [
        "import smtplib\n",
        "from email.mime.text import MIMEText\n",
        "\n",
        "me='abc@server.kr'\n",
        "you=['defl@sever.com','def2@server.com','def3@server.com']\n",
        "contents='12월 20일에 동창회가 있으니 참석해주시기 바랍니다.'\n",
        "\n",
        "msg=MIMEText(contents,_charset='euc-kr')\n",
        "msg['Subject']='동창회 모임'\n",
        "msg['From']=me\n",
        "msg['To']=you\n",
        "\n",
        "server=smtplib.SMTP('smtp.gmail.com',587)\n",
        "server.ehlo()\n",
        "server.starttls()\n",
        "server.ehlo()\n",
        "\n",
        "server.login(\"자신의 아이디\",\"패스워드\")\n",
        "\n",
        "for i in rang(len(you)):\n",
        "  server.sendmail(me,you[i],msg.as_string())\n",
        "server.guit()"
      ],
      "metadata": {
        "id": "l0kqKz5ClN3b"
      },
      "execution_count": null,
      "outputs": []
    }
  ]
}
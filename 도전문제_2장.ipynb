{
  "nbformat": 4,
  "nbformat_minor": 0,
  "metadata": {
    "colab": {
      "name": "도전문제 2장.ipynb",
      "provenance": [],
      "authorship_tag": "ABX9TyO2r4cx9+YjqNcWbGns/CTQ",
      "include_colab_link": true
    },
    "kernelspec": {
      "name": "python3",
      "display_name": "Python 3"
    },
    "language_info": {
      "name": "python"
    }
  },
  "cells": [
    {
      "cell_type": "markdown",
      "metadata": {
        "id": "view-in-github",
        "colab_type": "text"
      },
      "source": [
        "<a href=\"https://colab.research.google.com/github/leeggatal/python/blob/main/%EB%8F%84%EC%A0%84%EB%AC%B8%EC%A0%9C_2%EC%9E%A5.ipynb\" target=\"_parent\"><img src=\"https://colab.research.google.com/assets/colab-badge.svg\" alt=\"Open In Colab\"/></a>"
      ]
    },
    {
      "cell_type": "code",
      "metadata": {
        "colab": {
          "base_uri": "https://localhost:8080/"
        },
        "id": "53LSovsiNonn",
        "outputId": "0ca8af86-9e0b-45e6-cc5c-29cfb1509b92"
      },
      "source": [
        "x=7\n",
        "y=6\n",
        "print(x+y)"
      ],
      "execution_count": null,
      "outputs": [
        {
          "output_type": "stream",
          "name": "stdout",
          "text": [
            "13\n"
          ]
        }
      ]
    },
    {
      "cell_type": "code",
      "metadata": {
        "colab": {
          "base_uri": "https://localhost:8080/"
        },
        "id": "U3vn3rMqN-o5",
        "outputId": "7dee6e9f-4498-4968-abb4-6df03dfbadb2"
      },
      "source": [
        "x='7'\n",
        "y='6'\n",
        "print(x+y)"
      ],
      "execution_count": null,
      "outputs": [
        {
          "output_type": "stream",
          "name": "stdout",
          "text": [
            "76\n"
          ]
        }
      ]
    },
    {
      "cell_type": "code",
      "metadata": {
        "id": "73JraLXnON61",
        "colab": {
          "base_uri": "https://localhost:8080/"
        },
        "outputId": "33df3ca4-d393-4d10-e848-1074e90f98fb"
      },
      "source": [
        "x=int(input(\"첫 번째 정수를 입력하시오:\"))\n",
        "y=int(input(\"두 번쨰 정수를 입력하시오:\"))\n",
        "\n",
        "print(x,\"+\",y,\"=\",x+y)   #더하기\n",
        "print(x,\"-\",y,\"=\",x-y)   #빼기\n",
        "print(x,\"*\",y,\"=\",x*y)   #곱하기\n",
        "print(x,\"/\",y,\"=\",x/y)   #나누기"
      ],
      "execution_count": 4,
      "outputs": [
        {
          "output_type": "stream",
          "name": "stdout",
          "text": [
            "첫 번째 정수를 입력하시오:10\n",
            "두 번쨰 정수를 입력하시오:20\n",
            "10 + 20 = 30\n",
            "10 - 20 = -10\n",
            "10 * 20 = 200\n",
            "10 / 20 = 0.5\n"
          ]
        }
      ]
    },
    {
      "cell_type": "code",
      "metadata": {
        "id": "770UJ9FupHPz",
        "colab": {
          "base_uri": "https://localhost:8080/"
        },
        "outputId": "3db450f6-8ac4-4f46-b7e6-349ff91316ba"
      },
      "source": [
        "total=100000   #총 재료비용\n",
        "americano_price=2000\n",
        "cafelatte_price=3000\n",
        "capucino_price=3500\n",
        "\n",
        "americanos=int(input(\"아메리카노 판매 개수:\"))\n",
        "cafelattes=int(input(\"카페라떼 판매 개수:\"))\n",
        "capucinos=int(input(\"카푸치노 판매 개수::\"))\n",
        "\n",
        "sales=americanos*americano_price\n",
        "sales=sales+cafelattes*cafelatte_price\n",
        "sales=sales+capucinos*capucino_price\n",
        "print(\"총 매출은\",sales,\"입니다.\")\n",
        "\n",
        "if (total<sales):print(\"흑자입니다.\")\n",
        "else:print(\"적자입니다.\")"
      ],
      "execution_count": 6,
      "outputs": [
        {
          "output_type": "stream",
          "name": "stdout",
          "text": [
            "아메리카노 판매 개수:50\n",
            "카페라떼 판매 개수:45\n",
            "카푸치노 판매 개수::40\n",
            "총 매출은 375000 입니다.\n",
            "흑자입니다.\n"
          ]
        }
      ]
    },
    {
      "cell_type": "code",
      "metadata": {
        "id": "aSC9UBKUrLRL",
        "colab": {
          "base_uri": "https://localhost:8080/"
        },
        "outputId": "73d35fc1-766e-4dbd-c37d-26a0c3958d92"
      },
      "source": [
        "ctemp=int(input(\"섭씨온도:\"))\n",
        "ftemp=9/5*ctemp+32\n",
        "print(\"화씨온도:\",ftemp)"
      ],
      "execution_count": 2,
      "outputs": [
        {
          "output_type": "stream",
          "name": "stdout",
          "text": [
            "섭씨온도:10\n",
            "화씨온도: 50.0\n"
          ]
        }
      ]
    },
    {
      "cell_type": "code",
      "metadata": {
        "colab": {
          "base_uri": "https://localhost:8080/"
        },
        "id": "PwItH0VHITk9",
        "outputId": "697ea224-2f56-4b1e-dbdf-008823c9c21a"
      },
      "source": [
        "money=int(input(\"투입한 돈:\"))   #변수 money를 선언하고 정수형으로 받는다\n",
        "price=int(input(\"물건 값:\"))     #변수 price를 선언하고 정수로 받는다\n",
        "\n",
        "change=money-price               #거스름돈을 계산한다\n",
        "print(\"거스름돈:\",change)\n",
        "coin500s=change//500   #500으로 나누어서 몫이 500원 짜리의 개수이다\n",
        "change=change%500      #500으로 나눈 나머지를 계산한다\n",
        "coin100s=change//100   #100으로 나누어서 몫이 100원 짜리의 개수이다\n",
        "change=change%100      #100으로 나눈 나머지를 계산한다\n",
        "coin50s=change//50     #50으로 나누어서 몫이 50원 짜리의 개수이다\n",
        "change=change%50       #50으로 나눈 나머지를 계산한다\n",
        "\n",
        "print(\"500원 동전의 개수:\",coin500s)   #거슬러줄 500원짜리의 개수를 출력\n",
        "print(\"100원 동전의 개수:\",coin100s)   #거슬러줄 100원짜리의 개수를 출력\n",
        "print(\"50원 동전의 개수:\",coin50s)     #거슬러줄 50원짜리의 개수를 출력"
      ],
      "execution_count": 11,
      "outputs": [
        {
          "output_type": "stream",
          "name": "stdout",
          "text": [
            "투입한 돈:10000\n",
            "물건 값:900\n",
            "거스름돈: 9100\n",
            "500원 동전의 개수: 18\n",
            "100원 동전의 개수: 1\n",
            "50원 동전의 개수: 0\n"
          ]
        }
      ]
    }
  ]
}